{
 "cells": [
  {
   "cell_type": "markdown",
   "id": "7215c501-9126-4323-8308-24836e866fcc",
   "metadata": {},
   "source": [
    "# The Numpy.Random Package.\n",
    "\n",
    "*image"
   ]
  },
  {
   "cell_type": "markdown",
   "id": "ae081d9b-352e-4f79-b8a0-38853af0fd0e",
   "metadata": {},
   "source": [
    "## Programming for Data Analysis"
   ]
  },
  {
   "cell_type": "markdown",
   "id": "cb967563-89eb-4b51-957d-7bd3191b8a0e",
   "metadata": {},
   "source": [
    "# 1. Introduction\n",
    "\n",
    "In this Jupyter Notebook I will discuss the numpy.random package for Python. "
   ]
  },
  {
   "cell_type": "markdown",
   "id": "df045b8c-5a00-4e0d-83b1-9a8ad4ae1f31",
   "metadata": {},
   "source": [
    "## Firstly you will need to do the following:"
   ]
  },
  {
   "cell_type": "code",
   "execution_count": 2,
   "id": "da56a86f-c617-4a4f-af23-870d4f4c9fcc",
   "metadata": {},
   "outputs": [],
   "source": [
    "import numpy as np\n",
    "import matplotlib.pyplot as plt"
   ]
  },
  {
   "cell_type": "markdown",
   "id": "b18b10fe-d968-470b-ae2f-70bed50637de",
   "metadata": {},
   "source": [
    "# 2. The purpose of the Numpy.Random Package\n",
    "\n"
   ]
  },
  {
   "cell_type": "code",
   "execution_count": null,
   "id": "69626017-eeb1-4750-a911-b47c67fd8a8a",
   "metadata": {},
   "outputs": [],
   "source": [
    "Numpy "
   ]
  },
  {
   "cell_type": "code",
   "execution_count": null,
   "id": "2e236745-fe23-4ca5-be5d-10ccaf9400fd",
   "metadata": {},
   "outputs": [],
   "source": []
  }
 ],
 "metadata": {
  "kernelspec": {
   "display_name": "Python 3",
   "language": "python",
   "name": "python3"
  },
  "language_info": {
   "codemirror_mode": {
    "name": "ipython",
    "version": 3
   },
   "file_extension": ".py",
   "mimetype": "text/x-python",
   "name": "python",
   "nbconvert_exporter": "python",
   "pygments_lexer": "ipython3",
   "version": "3.8.8"
  }
 },
 "nbformat": 4,
 "nbformat_minor": 5
}
