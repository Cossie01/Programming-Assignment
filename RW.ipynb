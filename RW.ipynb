{
 "cells": [
  {
   "cell_type": "code",
   "execution_count": 2,
   "id": "8e5dd39e-a92a-4351-8e20-79b482e904ec",
   "metadata": {},
   "outputs": [],
   "source": [
    "import numpy as np"
   ]
  },
  {
   "cell_type": "code",
   "execution_count": 3,
   "id": "ee9de26b-b383-498f-b97b-625f9371fc1a",
   "metadata": {},
   "outputs": [
    {
     "name": "stdout",
     "output_type": "stream",
     "text": [
      "[0.36010502 0.62551689 0.328287  ]\n"
     ]
    }
   ],
   "source": [
    "a = np.random.random (3) #asking for 3 random numbers\n",
    "print (a)"
   ]
  },
  {
   "cell_type": "code",
   "execution_count": 6,
   "id": "1d0e655a-7cce-4d94-88cb-7c752c4353af",
   "metadata": {},
   "outputs": [
    {
     "name": "stdout",
     "output_type": "stream",
     "text": [
      "[[0.29764619 0.03661104 0.37619778]\n",
      " [0.61798934 0.20305267 0.20319771]\n",
      " [0.72334164 0.2681547  0.25040415]]\n"
     ]
    }
   ],
   "source": [
    "b =np.random.random ((3,3)) #prints 3 rows of 3 numbers\n",
    "print (b)"
   ]
  },
  {
   "cell_type": "code",
   "execution_count": 8,
   "id": "0df12bbc-bdd8-44c3-ac73-8da62b36ef3b",
   "metadata": {},
   "outputs": [
    {
     "name": "stdout",
     "output_type": "stream",
     "text": [
      "[[[0.83987791 0.72212436 0.35072436]\n",
      "  [0.93877368 0.08928671 0.67445243]\n",
      "  [0.2996165  0.58415607 0.10588613]]\n",
      "\n",
      " [[0.81906831 0.58933439 0.07142987]\n",
      "  [0.18663757 0.09522258 0.29374297]\n",
      "  [0.57428071 0.23083106 0.66425024]]\n",
      "\n",
      " [[0.5809446  0.19479883 0.46370993]\n",
      "  [0.76100946 0.4461097  0.57131849]\n",
      "  [0.44790523 0.13671525 0.82988525]]]\n"
     ]
    }
   ],
   "source": [
    "c =np.random.rand (3,3,3)\n",
    "print (c)"
   ]
  },
  {
   "cell_type": "code",
   "execution_count": 11,
   "id": "c7522f89-54e4-4850-9d8f-cf3d09a8117d",
   "metadata": {},
   "outputs": [
    {
     "name": "stdout",
     "output_type": "stream",
     "text": [
      "[[6 9 2]\n",
      " [4 1 6]\n",
      " [7 6 3]]\n"
     ]
    }
   ],
   "source": [
    "d =np.random.randint (1,10, size =(3,3))\n",
    "print (d)"
   ]
  },
  {
   "cell_type": "code",
   "execution_count": 15,
   "id": "81020680-a0d7-45c1-b889-3e5769ffb1ec",
   "metadata": {},
   "outputs": [
    {
     "name": "stdout",
     "output_type": "stream",
     "text": [
      "[['Sue' 'Sue' 'Mary']\n",
      " ['Mary' 'Pat' 'Pat']\n",
      " ['Pat' 'Sue' 'Sue']]\n"
     ]
    }
   ],
   "source": [
    "e = [\"Pat\", \"Mary\", \"Jim\", \"Sue\"]\n",
    "f = np.random.choice(e, size = (3,3), p=[0.5,0.3,0,0.2])\n",
    "print (f)"
   ]
  },
  {
   "cell_type": "code",
   "execution_count": null,
   "id": "66b4acec-886b-4efb-8b2c-067dc33372c4",
   "metadata": {},
   "outputs": [],
   "source": []
  }
 ],
 "metadata": {
  "kernelspec": {
   "display_name": "Python 3",
   "language": "python",
   "name": "python3"
  },
  "language_info": {
   "codemirror_mode": {
    "name": "ipython",
    "version": 3
   },
   "file_extension": ".py",
   "mimetype": "text/x-python",
   "name": "python",
   "nbconvert_exporter": "python",
   "pygments_lexer": "ipython3",
   "version": "3.8.8"
  }
 },
 "nbformat": 4,
 "nbformat_minor": 5
}
