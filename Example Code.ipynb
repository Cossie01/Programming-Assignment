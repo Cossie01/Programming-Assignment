{
 "cells": [
  {
   "cell_type": "code",
   "execution_count": 2,
   "id": "8e5dd39e-a92a-4351-8e20-79b482e904ec",
   "metadata": {},
   "outputs": [],
   "source": [
    "import numpy as np"
   ]
  },
  {
   "cell_type": "markdown",
   "id": "9288aabb-4993-48c3-85e6-2aa4533da2ee",
   "metadata": {},
   "source": [
    "##Basics of Numpy"
   ]
  },
  {
   "cell_type": "code",
   "execution_count": 3,
   "id": "8f4467fb-eda7-4d61-93a8-44947ef3409a",
   "metadata": {},
   "outputs": [
    {
     "name": "stdout",
     "output_type": "stream",
     "text": [
      "[2 3 4]\n"
     ]
    }
   ],
   "source": [
    "a = np.array ([2,3,4]) #simple array\n",
    "print (a)"
   ]
  },
  {
   "cell_type": "code",
   "execution_count": 4,
   "id": "5c002780-ffda-406f-a514-d392583ad99f",
   "metadata": {},
   "outputs": [
    {
     "name": "stdout",
     "output_type": "stream",
     "text": [
      "[[6 4 0 3]\n",
      " [4 7 8 9]]\n"
     ]
    }
   ],
   "source": [
    "b = np.array([[6,4,0,3], [4,7,8,9]]) #2d array\n",
    "print(b)"
   ]
  },
  {
   "cell_type": "code",
   "execution_count": 5,
   "id": "a4137a55-231d-4f46-a554-ddda66326787",
   "metadata": {},
   "outputs": [
    {
     "data": {
      "text/plain": [
       "2"
      ]
     },
     "execution_count": 5,
     "metadata": {},
     "output_type": "execute_result"
    }
   ],
   "source": [
    "b.ndim #get dimension of b"
   ]
  },
  {
   "cell_type": "code",
   "execution_count": 6,
   "id": "52c29858-6462-4216-9381-88bac24be6af",
   "metadata": {},
   "outputs": [
    {
     "data": {
      "text/plain": [
       "(3,)"
      ]
     },
     "execution_count": 6,
     "metadata": {},
     "output_type": "execute_result"
    }
   ],
   "source": [
    "a.shape #shape of the array, tuple"
   ]
  },
  {
   "cell_type": "code",
   "execution_count": 7,
   "id": "9e465af3-6c29-4ef4-b14a-4649df188744",
   "metadata": {},
   "outputs": [
    {
     "data": {
      "text/plain": [
       "dtype('int32')"
      ]
     },
     "execution_count": 7,
     "metadata": {},
     "output_type": "execute_result"
    }
   ],
   "source": [
    "a.dtype #get the data type"
   ]
  },
  {
   "cell_type": "code",
   "execution_count": 8,
   "id": "cd44b1e2-363d-43bb-91db-361ff72e0a26",
   "metadata": {},
   "outputs": [
    {
     "data": {
      "text/plain": [
       "4"
      ]
     },
     "execution_count": 8,
     "metadata": {},
     "output_type": "execute_result"
    }
   ],
   "source": [
    "b.itemsize #how many bytes per element"
   ]
  },
  {
   "cell_type": "code",
   "execution_count": 9,
   "id": "2a18378c-3c82-4fd9-b419-054480fe23da",
   "metadata": {},
   "outputs": [
    {
     "data": {
      "text/plain": [
       "32"
      ]
     },
     "execution_count": 9,
     "metadata": {},
     "output_type": "execute_result"
    }
   ],
   "source": [
    "b.nbytes #bytes of memory used"
   ]
  },
  {
   "cell_type": "code",
   "execution_count": 10,
   "id": "f786cf22-f1a9-4433-99d8-5004c26323a7",
   "metadata": {},
   "outputs": [
    {
     "name": "stdout",
     "output_type": "stream",
     "text": [
      "[[ 1  2  3  4  5  6  7]\n",
      " [ 8  9 10 11 12 13 14]]\n"
     ]
    }
   ],
   "source": [
    "c = np.array([[1,2,3,4,5,6,7], [8,9,10,11,12,13,14]])\n",
    "print (c)"
   ]
  },
  {
   "cell_type": "code",
   "execution_count": 11,
   "id": "5431fae9-91bf-4fe1-b252-5c5ff6ec8895",
   "metadata": {},
   "outputs": [
    {
     "data": {
      "text/plain": [
       "11"
      ]
     },
     "execution_count": 11,
     "metadata": {},
     "output_type": "execute_result"
    }
   ],
   "source": [
    "c[1,3]  #get a specific location [r,c]"
   ]
  },
  {
   "cell_type": "code",
   "execution_count": 12,
   "id": "d24ae188-4a62-4abc-9e19-d91115791352",
   "metadata": {},
   "outputs": [
    {
     "data": {
      "text/plain": [
       "6"
      ]
     },
     "execution_count": 12,
     "metadata": {},
     "output_type": "execute_result"
    }
   ],
   "source": [
    "c[0,-2] #negative indexing"
   ]
  },
  {
   "cell_type": "code",
   "execution_count": 13,
   "id": "74be2965-2dea-4b1e-ab03-2c5da5b00f91",
   "metadata": {},
   "outputs": [
    {
     "data": {
      "text/plain": [
       "array([1, 2, 3, 4, 5, 6, 7])"
      ]
     },
     "execution_count": 13,
     "metadata": {},
     "output_type": "execute_result"
    }
   ],
   "source": [
    "c[0,:] #getting the first row and all elements or specific rows"
   ]
  },
  {
   "cell_type": "code",
   "execution_count": 14,
   "id": "921f6e03-efa3-4767-a120-b0ea54d8e32d",
   "metadata": {},
   "outputs": [
    {
     "data": {
      "text/plain": [
       "array([8, 9])"
      ]
     },
     "execution_count": 14,
     "metadata": {},
     "output_type": "execute_result"
    }
   ],
   "source": [
    "c[1,:2] #getting elements up to the second index"
   ]
  },
  {
   "cell_type": "code",
   "execution_count": 15,
   "id": "da0857f4-6ce7-4137-8f8c-a54323737f5c",
   "metadata": {},
   "outputs": [
    {
     "data": {
      "text/plain": [
       "array([ 3, 10])"
      ]
     },
     "execution_count": 15,
     "metadata": {},
     "output_type": "execute_result"
    }
   ],
   "source": [
    "c[:,2] #getting specific columns"
   ]
  },
  {
   "cell_type": "code",
   "execution_count": 16,
   "id": "ee9de26b-b383-498f-b97b-625f9371fc1a",
   "metadata": {},
   "outputs": [
    {
     "name": "stdout",
     "output_type": "stream",
     "text": [
      "[0.22316019 0.92102295 0.80771886]\n"
     ]
    }
   ],
   "source": [
    "d = np.random.random (3) #asking for 3 random numbers\n",
    "print (d)"
   ]
  },
  {
   "cell_type": "code",
   "execution_count": 17,
   "id": "1d0e655a-7cce-4d94-88cb-7c752c4353af",
   "metadata": {},
   "outputs": [
    {
     "name": "stdout",
     "output_type": "stream",
     "text": [
      "[[0.73751576 0.99199088 0.21720997]\n",
      " [0.68104012 0.84855733 0.8218318 ]\n",
      " [0.76167326 0.92293907 0.80035135]]\n"
     ]
    }
   ],
   "source": [
    "e=np.random.random ((3,3)) #prints 3 rows of 3 numbers\n",
    "print (e)"
   ]
  },
  {
   "cell_type": "code",
   "execution_count": 18,
   "id": "0df12bbc-bdd8-44c3-ac73-8da62b36ef3b",
   "metadata": {},
   "outputs": [
    {
     "name": "stdout",
     "output_type": "stream",
     "text": [
      "[[[0.59800882 0.41530655 0.18872503]\n",
      "  [0.8369893  0.7765943  0.13494757]\n",
      "  [0.08755545 0.06483816 0.69212485]]\n",
      "\n",
      " [[0.01073391 0.97824489 0.68741632]\n",
      "  [0.21758778 0.00820248 0.48241754]\n",
      "  [0.1622969  0.18694795 0.3251114 ]]\n",
      "\n",
      " [[0.19943182 0.29238841 0.77268169]\n",
      "  [0.81493995 0.95237552 0.26183501]\n",
      "  [0.82873105 0.94848123 0.3110186 ]]]\n"
     ]
    }
   ],
   "source": [
    "f =np.random.rand (3,3,3)\n",
    "print (f)"
   ]
  },
  {
   "cell_type": "code",
   "execution_count": 19,
   "id": "c7522f89-54e4-4850-9d8f-cf3d09a8117d",
   "metadata": {},
   "outputs": [
    {
     "name": "stdout",
     "output_type": "stream",
     "text": [
      "[[1 6 1]\n",
      " [1 1 7]\n",
      " [9 6 6]]\n"
     ]
    }
   ],
   "source": [
    "g =np.random.randint (1,10, size =(3,3)) #giving back 3 integers\n",
    "print (g)"
   ]
  },
  {
   "cell_type": "code",
   "execution_count": 20,
   "id": "81020680-a0d7-45c1-b889-3e5769ffb1ec",
   "metadata": {},
   "outputs": [
    {
     "name": "stdout",
     "output_type": "stream",
     "text": [
      "[['Sue' 'Pat' 'Sue']\n",
      " ['Pat' 'Pat' 'Pat']\n",
      " ['Pat' 'Mary' 'Pat']]\n"
     ]
    }
   ],
   "source": [
    "h = [\"Pat\", \"Mary\", \"Jim\", \"Sue\"]\n",
    "i= np.random.choice(h, size = (3,3), p=[0.5,0.3,0,0.2]) #alterating the probability of the choices.\n",
    "print (i)"
   ]
  },
  {
   "cell_type": "code",
   "execution_count": 21,
   "id": "66b4acec-886b-4efb-8b2c-067dc33372c4",
   "metadata": {},
   "outputs": [
    {
     "data": {
      "text/plain": [
       "array([[4, 4],\n",
       "       [1, 4],\n",
       "       [5, 1],\n",
       "       [4, 0],\n",
       "       [4, 2],\n",
       "       [2, 0],\n",
       "       [3, 5],\n",
       "       [3, 1],\n",
       "       [1, 3],\n",
       "       [1, 1]], dtype=int64)"
      ]
     },
     "execution_count": 21,
     "metadata": {},
     "output_type": "execute_result"
    }
   ],
   "source": [
    "rng = np.random.default_rng() #simple random data, integers function\n",
    "rng.integers(6, size=(10,2))"
   ]
  },
  {
   "cell_type": "code",
   "execution_count": 22,
   "id": "adcda3b0-3f6f-44ad-a0b4-0c6e7d86212e",
   "metadata": {},
   "outputs": [
    {
     "data": {
      "text/plain": [
       "0.1969067032451891"
      ]
     },
     "execution_count": 22,
     "metadata": {},
     "output_type": "execute_result"
    }
   ],
   "source": [
    "rng.random() #simple random data, random function"
   ]
  },
  {
   "cell_type": "code",
   "execution_count": 23,
   "id": "382be143-5ac8-4b32-85b6-90e5c7bd4430",
   "metadata": {},
   "outputs": [
    {
     "data": {
      "text/plain": [
       "float"
      ]
     },
     "execution_count": 23,
     "metadata": {},
     "output_type": "execute_result"
    }
   ],
   "source": [
    "type(rng.random()) #type of element in the random "
   ]
  },
  {
   "cell_type": "code",
   "execution_count": 24,
   "id": "b2af3c0a-9376-48ea-a899-f18d4e2a3a75",
   "metadata": {},
   "outputs": [
    {
     "data": {
      "text/plain": [
       "array([0, 7, 2, 9, 8], dtype=int64)"
      ]
     },
     "execution_count": 24,
     "metadata": {},
     "output_type": "execute_result"
    }
   ],
   "source": [
    "rng.choice(10, 5) #simple random data, choice function"
   ]
  },
  {
   "cell_type": "code",
   "execution_count": 25,
   "id": "8be67fec-ff7b-4344-9206-39a4d5d955bc",
   "metadata": {},
   "outputs": [
    {
     "data": {
      "text/plain": [
       "b'b\\xa1\\xec\\xd8\\xdb\\x8a\\xfa\\x0e\\xaa+\\x87\\x96 X\\x82&g\\xd0\\x0e\\xa66\\xac\\xcc\\x03FzqZqp\\x04\\x84\\x8d\\xd5\\xf9\\x97,m\\xe6ud\\x08\\x89tXl\\xd8]1/'"
      ]
     },
     "execution_count": 25,
     "metadata": {},
     "output_type": "execute_result"
    }
   ],
   "source": [
    "np.random.default_rng().bytes(50) ##simple random data, bytes function"
   ]
  },
  {
   "cell_type": "code",
   "execution_count": 26,
   "id": "46797a89-2120-4ddb-9a46-6f70b013c2ca",
   "metadata": {},
   "outputs": [
    {
     "data": {
      "text/plain": [
       "array([12,  1,  6,  4,  5, 19, 14, 18, 11,  7,  0, 16, 10, 15, 17,  3,  2,\n",
       "        8,  9, 13])"
      ]
     },
     "execution_count": 26,
     "metadata": {},
     "output_type": "execute_result"
    }
   ],
   "source": [
    "rng = np.random.default_rng() #Permutation, shuffle function\n",
    "arr = np.arange(20) \n",
    "rng.shuffle(arr)\n",
    "arr"
   ]
  },
  {
   "cell_type": "code",
   "execution_count": 27,
   "id": "20ff0e12-ea52-4437-b408-cdad192b2f22",
   "metadata": {},
   "outputs": [
    {
     "data": {
      "text/plain": [
       "array([[0, 1, 2],\n",
       "       [3, 4, 5],\n",
       "       [6, 7, 8]])"
      ]
     },
     "execution_count": 27,
     "metadata": {},
     "output_type": "execute_result"
    }
   ],
   "source": [
    "arr = np.arange(9).reshape((3, 3)) #reshaping into 3D array\n",
    "rng.shuffle(arr)\n",
    "arr"
   ]
  },
  {
   "cell_type": "code",
   "execution_count": 28,
   "id": "aa193fc5-b93a-4b9e-ad20-3cad4ba6e01d",
   "metadata": {},
   "outputs": [
    {
     "data": {
      "text/plain": [
       "array([6, 7, 1, 5, 2, 0, 8, 3, 9, 4])"
      ]
     },
     "execution_count": 28,
     "metadata": {},
     "output_type": "execute_result"
    }
   ],
   "source": [
    "rng.permutation(10) #Permutation, permutation function"
   ]
  },
  {
   "cell_type": "code",
   "execution_count": 29,
   "id": "ad998474-3173-4c2c-a292-78f1f785701f",
   "metadata": {},
   "outputs": [
    {
     "data": {
      "text/plain": [
       "array([[ 8,  5,  2,  1,  0,  4,  6,  3,  7,  9],\n",
       "       [11, 16, 10, 15, 14, 19, 17, 12, 13, 18],\n",
       "       [20, 25, 28, 24, 23, 21, 27, 26, 22, 29],\n",
       "       [30, 39, 34, 31, 38, 33, 36, 35, 32, 37],\n",
       "       [43, 45, 42, 47, 46, 48, 49, 44, 40, 41]])"
      ]
     },
     "execution_count": 29,
     "metadata": {},
     "output_type": "execute_result"
    }
   ],
   "source": [
    "x = np.arange(50).reshape(5, 10)\n",
    "y = rng.permuted(x, axis=1) ##Permutation, permuted function\n",
    "y"
   ]
  },
  {
   "cell_type": "markdown",
   "id": "87e2ad98-5ee3-44c0-a7ec-b1cfd99ad6fd",
   "metadata": {},
   "source": [
    "# Mathematical functions"
   ]
  },
  {
   "cell_type": "code",
   "execution_count": 30,
   "id": "99e64eaf-28e5-4e90-8702-956da7717a0d",
   "metadata": {},
   "outputs": [],
   "source": [
    "j = np.array ([1,2,3,4]) #creating two new arrays\n",
    "f =np.array ([1.2, 2.3, 4.5, 5.6])"
   ]
  },
  {
   "cell_type": "code",
   "execution_count": 31,
   "id": "b7f48f0c-86ea-4ac8-a64b-bf3498782356",
   "metadata": {},
   "outputs": [
    {
     "data": {
      "text/plain": [
       "array([2.2, 4.3, 7.5, 9.6])"
      ]
     },
     "execution_count": 31,
     "metadata": {},
     "output_type": "execute_result"
    }
   ],
   "source": [
    "j + f #adding two arrays together"
   ]
  },
  {
   "cell_type": "code",
   "execution_count": 32,
   "id": "609dd8ba-72d8-466c-8b21-49aaf2bda6d9",
   "metadata": {},
   "outputs": [
    {
     "data": {
      "text/plain": [
       "array([ 1.2,  4.6, 13.5, 22.4])"
      ]
     },
     "execution_count": 32,
     "metadata": {},
     "output_type": "execute_result"
    }
   ],
   "source": [
    "j * f #multiply two arrays"
   ]
  },
  {
   "cell_type": "code",
   "execution_count": 33,
   "id": "9403c937-b7ab-4499-bd0f-1d3d75f0361f",
   "metadata": {},
   "outputs": [
    {
     "data": {
      "text/plain": [
       "array([0.83333333, 0.86956522, 0.66666667, 0.71428571])"
      ]
     },
     "execution_count": 33,
     "metadata": {},
     "output_type": "execute_result"
    }
   ],
   "source": [
    "j/f #dividing two arrays"
   ]
  },
  {
   "cell_type": "code",
   "execution_count": 34,
   "id": "99beabff-d4f2-4113-9ca9-0fab55ef1b1b",
   "metadata": {},
   "outputs": [
    {
     "data": {
      "text/plain": [
       "array([1.00000000e+00, 4.92457765e+00, 1.40296115e+02, 2.35253423e+03])"
      ]
     },
     "execution_count": 34,
     "metadata": {},
     "output_type": "execute_result"
    }
   ],
   "source": [
    "j ** f #raising the power of two arrays against each other"
   ]
  },
  {
   "cell_type": "code",
   "execution_count": 35,
   "id": "dc82bb2a-2bc5-426c-8a04-06cc0b1cd90e",
   "metadata": {},
   "outputs": [
    {
     "data": {
      "text/plain": [
       "array([10, 20, 30, 40])"
      ]
     },
     "execution_count": 35,
     "metadata": {},
     "output_type": "execute_result"
    }
   ],
   "source": [
    "j * 10 #multipling an array against an constant"
   ]
  },
  {
   "cell_type": "code",
   "execution_count": 36,
   "id": "321b7b6e-604f-4741-a673-3373dfe11a1d",
   "metadata": {},
   "outputs": [
    {
     "data": {
      "text/plain": [
       "array([ 0.84147098,  0.90929743,  0.14112001, -0.7568025 ])"
      ]
     },
     "execution_count": 36,
     "metadata": {},
     "output_type": "execute_result"
    }
   ],
   "source": [
    "np.sin(j) #universal function use of sin on array"
   ]
  },
  {
   "cell_type": "markdown",
   "id": "57dbea53-508d-49bd-9624-945ddf26332d",
   "metadata": {},
   "source": [
    "# Distribution Function"
   ]
  },
  {
   "cell_type": "code",
   "execution_count": 37,
   "id": "5b8e9097-1ab3-4504-ae43-1feda461418d",
   "metadata": {},
   "outputs": [
    {
     "data": {
      "text/plain": [
       "array([-0.69952206, -0.07471121, -0.20515918, -0.46885331, -0.11689832,\n",
       "       -0.54963425, -0.61016369, -0.87476232, -0.33416587, -0.16109328,\n",
       "       -0.85399467, -0.35718737, -0.8447303 , -0.89985267, -0.96220452,\n",
       "       -0.95106717, -0.68768541, -0.43820074, -0.81895136, -0.57709799,\n",
       "       -0.84670218, -0.14599537, -0.41398799, -0.452923  , -0.49755325,\n",
       "       -0.57975689, -0.04694292, -0.40629511, -0.35262892, -0.37261203,\n",
       "       -0.62710489, -0.27625864, -0.28829185, -0.07065983, -0.64165159,\n",
       "       -0.65906176, -0.58407107, -0.15570097, -0.30397888, -0.71523395,\n",
       "       -0.33963813, -0.02571667, -0.02854316, -0.14292297, -0.65407181,\n",
       "       -0.7766113 , -0.47817152, -0.65780829, -0.86911327, -0.47612359,\n",
       "       -0.35285977, -0.84069357, -0.22673701, -0.37722042, -0.51014311,\n",
       "       -0.11339495, -0.60467176, -0.44424512, -0.72218424, -0.36505641,\n",
       "       -0.55023299, -0.45757667, -0.9198883 , -0.43098056, -0.9968679 ,\n",
       "       -0.59595679, -0.15868774, -0.51282507, -0.01544404, -0.11901955,\n",
       "       -0.10095068, -0.70025662, -0.60515157, -0.93098837, -0.06017492,\n",
       "       -0.76345684, -0.23369478, -0.77108878, -0.32551204, -0.45244956,\n",
       "       -0.07706945, -0.92878751, -0.96694566, -0.7871338 , -0.69604595,\n",
       "       -0.61960678, -0.74230307, -0.55234742, -0.41639343, -0.90860571,\n",
       "       -0.33879269, -0.74481421, -0.25153676, -0.16608909, -0.87600177,\n",
       "       -0.14495513, -0.20340933, -0.58140524, -0.46077397, -0.90007807,\n",
       "       -0.48399198, -0.48486643, -0.78470524, -0.80074019, -0.21682491,\n",
       "       -0.94384606, -0.50329596, -0.91442391, -0.6827684 , -0.98836515,\n",
       "       -0.74037006, -0.96840686, -0.84644353, -0.88235421, -0.62040563,\n",
       "       -0.30421422, -0.06176917, -0.64758471, -0.7165045 , -0.49047875,\n",
       "       -0.10257582, -0.6922174 , -0.23284055, -0.14856041, -0.15832881,\n",
       "       -0.80836944, -0.18239504, -0.86115125, -0.41986139, -0.12847267,\n",
       "       -0.34315052, -0.52235944, -0.17047928, -0.42071911, -0.36165616,\n",
       "       -0.74931716, -0.09128853, -0.50913341, -0.76855916, -0.16870032,\n",
       "       -0.19636614, -0.85419253, -0.14892078, -0.55680906, -0.12090859,\n",
       "       -0.62256461, -0.11503765, -0.40869032, -0.06870317, -0.11419186,\n",
       "       -0.06460457, -0.72458986, -0.20917498, -0.1709942 , -0.98939771,\n",
       "       -0.3924514 , -0.6126164 , -0.59940644, -0.47707991, -0.03076974,\n",
       "       -0.70189834, -0.20524684, -0.1958918 , -0.98798708, -0.51989481,\n",
       "       -0.21220641, -0.11663194, -0.0960104 , -0.60099317, -0.30562647,\n",
       "       -0.25176817, -0.90307028, -0.02343146, -0.1613743 , -0.8076082 ,\n",
       "       -0.45694215, -0.3354774 , -0.69603788, -0.77497946, -0.19918372,\n",
       "       -0.04339315, -0.34098858, -0.53829959, -0.60928732, -0.16978873,\n",
       "       -0.14386716, -0.93206583, -0.42116628, -0.14114094, -0.32245137,\n",
       "       -0.09791199, -0.0761753 , -0.65762179, -0.60037973, -0.87386128,\n",
       "       -0.02443953, -0.02631681, -0.05657886, -0.82753375, -0.01928373,\n",
       "       -0.89124965, -0.85814896, -0.82241423, -0.98883387, -0.26206112,\n",
       "       -0.93859306, -0.77893831, -0.25008284, -0.00404864, -0.8570459 ,\n",
       "       -0.0076516 , -0.09111829, -0.9793969 , -0.35509645, -0.91376032,\n",
       "       -0.17514889, -0.17817458, -0.05877354, -0.72226361, -0.44885916,\n",
       "       -0.13088211, -0.93776196, -0.74722529, -0.03012556, -0.92681501,\n",
       "       -0.69558825, -0.60886489, -0.45991258, -0.45087883, -0.36273797,\n",
       "       -0.50795098, -0.46358   , -0.5691326 , -0.55580001, -0.81396578,\n",
       "       -0.70603844, -0.31535101, -0.49772465, -0.46528345, -0.24602098,\n",
       "       -0.79231969, -0.56746393, -0.46415786, -0.34634103, -0.90873753,\n",
       "       -0.8920143 , -0.58444222, -0.35043707, -0.41647418, -0.1778845 ,\n",
       "       -0.76105626, -0.10158014, -0.28202948, -0.39795137, -0.04007255,\n",
       "       -0.53484746, -0.28698976, -0.1480925 , -0.19315724, -0.7022977 ,\n",
       "       -0.41709191, -0.36242794, -0.32861278, -0.95328064, -0.19352683,\n",
       "       -0.55187463, -0.91263386, -0.18178929, -0.83113117, -0.51186155,\n",
       "       -0.17157636, -0.10876514, -0.76431652, -0.67035334, -0.3657408 ,\n",
       "       -0.36062191, -0.25161175, -0.43430673, -0.4587853 , -0.36609514,\n",
       "       -0.40674337, -0.2370329 , -0.01389396, -0.02164792, -0.71975992,\n",
       "       -0.20544683, -0.01191316, -0.05861462, -0.34887995, -0.55526843,\n",
       "       -0.11553797, -0.3061432 , -0.93518088, -0.53833484, -0.63939894,\n",
       "       -0.38470702, -0.99580601, -0.59813159, -0.62269084, -0.21525093,\n",
       "       -0.57861827, -0.72585402, -0.58472389, -0.14402008, -0.60205208,\n",
       "       -0.61748409, -0.83626868, -0.05770585, -0.39037265, -0.92186067,\n",
       "       -0.39888124, -0.40132267, -0.33631381, -0.71431912, -0.33630517,\n",
       "       -0.63062898, -0.69279211, -0.58675687, -0.32202846, -0.48405294,\n",
       "       -0.40157183, -0.43639754, -0.4223673 , -0.60086117, -0.42843545,\n",
       "       -0.93498969, -0.2164412 , -0.85930918, -0.06946786, -0.98386819,\n",
       "       -0.26092164, -0.02103595, -0.24399319, -0.39637297, -0.25215995,\n",
       "       -0.24929246, -0.54966893, -0.84512229, -0.14848951, -0.34429083,\n",
       "       -0.44247763, -0.48092843, -0.79182186, -0.69633376, -0.31268124,\n",
       "       -0.07273613, -0.41424986, -0.93121123, -0.54946787, -0.40173362,\n",
       "       -0.02533952, -0.5371789 , -0.21279158, -0.61568778, -0.3393821 ,\n",
       "       -0.88978735, -0.44460393, -0.57059109, -0.32619584, -0.31404199,\n",
       "       -0.60450846, -0.04888867, -0.46590738, -0.50907579, -0.97635042,\n",
       "       -0.2985206 , -0.73079589, -0.42328876, -0.68300501, -0.89434152,\n",
       "       -0.18697278, -0.6902922 , -0.22874865, -0.63327408, -0.7247588 ,\n",
       "       -0.00638307, -0.32539716, -0.487602  , -0.10821359, -0.33564069,\n",
       "       -0.6576476 , -0.80534303, -0.63860662, -0.46422101, -0.61595953,\n",
       "       -0.03558153, -0.39823551, -0.56390872, -0.75051439, -0.29249253,\n",
       "       -0.57686774, -0.09809924, -0.76224714, -0.42173959, -0.24685846,\n",
       "       -0.45055426, -0.81755693, -0.74214582, -0.5119673 , -0.58409639,\n",
       "       -0.08947061, -0.8801673 , -0.39518259, -0.89472731, -0.16835899,\n",
       "       -0.87520828, -0.63796652, -0.0472535 , -0.15248955, -0.76169144,\n",
       "       -0.08584323, -0.78714913, -0.96724475, -0.64211814, -0.91181586,\n",
       "       -0.28658981, -0.90890586, -0.79685258, -0.93064491, -0.44273426,\n",
       "       -0.80884934, -0.90382059, -0.09256623, -0.08648998, -0.62875631,\n",
       "       -0.41298851, -0.83120093, -0.01688867, -0.40800583, -0.84741158,\n",
       "       -0.9943884 , -0.39865692, -0.01612147, -0.3454715 , -0.94094274,\n",
       "       -0.94034015, -0.48345715, -0.33364358, -0.04291522, -0.17783584,\n",
       "       -0.38569736, -0.88788157, -0.81899008, -0.34374396, -0.44971555,\n",
       "       -0.16439948, -0.86259658, -0.88452682, -0.78940569, -0.38721624,\n",
       "       -0.2736324 , -0.06526759, -0.44751021, -0.71810296, -0.72330101,\n",
       "       -0.70026694, -0.25579855, -0.46464137, -0.94196112, -0.32171894,\n",
       "       -0.79398099, -0.74588455, -0.53591593, -0.2426865 , -0.29559961,\n",
       "       -0.74247628, -0.8756775 , -0.20707678, -0.44174196, -0.40569056,\n",
       "       -0.39555459, -0.71846807, -0.31649039, -0.15045276, -0.45259046,\n",
       "       -0.9643234 , -0.22992346, -0.98423904, -0.37081226, -0.78752062,\n",
       "       -0.08407073, -0.26483202, -0.91714362, -0.28146323, -0.0764131 ,\n",
       "       -0.25485739, -0.76482255, -0.95584352, -0.73686129, -0.79154311,\n",
       "       -0.46740375, -0.95683014, -0.99663828, -0.31208712, -0.65890948,\n",
       "       -0.93220469, -0.78541993, -0.26683165, -0.12361121, -0.29412886,\n",
       "       -0.50441059, -0.82708377, -0.14828607, -0.32532973, -0.43580655,\n",
       "       -0.16253921, -0.58326124, -0.0368201 , -0.79913106, -0.24157391,\n",
       "       -0.34736351, -0.55174189, -0.56270244, -0.66495425, -0.10325537,\n",
       "       -0.89441072, -0.93689622, -0.27025017, -0.33462457, -0.893254  ,\n",
       "       -0.51722288, -0.6449739 , -0.26348965, -0.05206104, -0.92627928,\n",
       "       -0.41717918, -0.60681716, -0.37353631, -0.07610342, -0.46795497,\n",
       "       -0.01272586, -0.56347067, -0.84037967, -0.76381818, -0.14092744,\n",
       "       -0.9740792 , -0.10326871, -0.43395845, -0.48613885, -0.84969296,\n",
       "       -0.27037343, -0.61874952, -0.99282527, -0.75694574, -0.66632645,\n",
       "       -0.30132579, -0.68891913, -0.08871466, -0.04557936, -0.24858427,\n",
       "       -0.23195995, -0.09512363, -0.02834728, -0.78730001, -0.33446061,\n",
       "       -0.48737002, -0.00979235, -0.73519185, -0.28512188, -0.64671607,\n",
       "       -0.55728836, -0.00889841, -0.28647103, -0.45399722, -0.63791215,\n",
       "       -0.99618324, -0.24332345, -0.7112823 , -0.92199183, -0.89249513,\n",
       "       -0.69603297, -0.06839177, -0.71474964, -0.60747264, -0.13778376,\n",
       "       -0.01922207, -0.92079578, -0.65001869, -0.45212616, -0.39354599,\n",
       "       -0.40122494, -0.61916934, -0.35772831, -0.08633069, -0.20337194,\n",
       "       -0.02140945, -0.29523174, -0.12541018, -0.89731005, -0.75381339,\n",
       "       -0.19910399, -0.38286482, -0.40701742, -0.50412765, -0.80668958,\n",
       "       -0.16824408, -0.02927342, -0.55463588, -0.89143239, -0.97868078,\n",
       "       -0.7394356 , -0.56902306, -0.88508881, -0.19347954, -0.41639277,\n",
       "       -0.54901448, -0.54988567, -0.28042407, -0.15694729, -0.14519279,\n",
       "       -0.06231838, -0.28828774, -0.7916461 , -0.07126284, -0.72849845,\n",
       "       -0.08574161, -0.7064203 , -0.03316864, -0.97042608, -0.92415197,\n",
       "       -0.45419874, -0.41983739, -0.53346039, -0.1212977 , -0.72571063,\n",
       "       -0.49692984, -0.96748261, -0.0851065 , -0.51113303, -0.7880577 ,\n",
       "       -0.94248719, -0.77396032, -0.0909398 , -0.96128464, -0.95038351,\n",
       "       -0.78842993, -0.80544204, -0.89270262, -0.00413808, -0.0012812 ,\n",
       "       -0.04475365, -0.81327966, -0.62405378, -0.45826508, -0.37509432,\n",
       "       -0.57619456, -0.97722094, -0.69175269, -0.20709299, -0.34736793,\n",
       "       -0.98276663, -0.39892754, -0.15308498, -0.85825859, -0.86057327,\n",
       "       -0.34187158, -0.75792154, -0.39563343, -0.36265305, -0.07334632,\n",
       "       -0.59811213, -0.47935945, -0.7542172 , -0.74001673, -0.8933029 ,\n",
       "       -0.61573796, -0.11121259, -0.66705501, -0.39601822, -0.29111833,\n",
       "       -0.15229583, -0.55585793, -0.62934043, -0.51596755, -0.00856769,\n",
       "       -0.27433963, -0.55526269, -0.79268798, -0.31101388, -0.96265401,\n",
       "       -0.17055362, -0.27803643, -0.94957652, -0.53893286, -0.48809165,\n",
       "       -0.1845364 , -0.41674187, -0.53171132, -0.13152718, -0.45266766,\n",
       "       -0.95383985, -0.28430584, -0.42759659, -0.95131143, -0.27098448,\n",
       "       -0.77375842, -0.47871116, -0.71165766, -0.53306921, -0.82213074,\n",
       "       -0.34356426, -0.25184908, -0.88551678, -0.79931626, -0.88904552,\n",
       "       -0.31617183, -0.81185966, -0.2968026 , -0.30286174, -0.79098252,\n",
       "       -0.47122954, -0.13143076, -0.24935494, -0.97869574, -0.65327989,\n",
       "       -0.53294418, -0.4998121 , -0.98049543, -0.1331092 , -0.5467567 ,\n",
       "       -0.80702808, -0.95537319, -0.08254062, -0.38905982, -0.12646991,\n",
       "       -0.32836317, -0.77493103, -0.29307354, -0.69304173, -0.65358622,\n",
       "       -0.30901241, -0.00234285, -0.12019746, -0.91092611, -0.63774441,\n",
       "       -0.8099206 , -0.348232  , -0.35205803, -0.82850443, -0.25670524,\n",
       "       -0.77290374, -0.14097807, -0.40955716, -0.28907166, -0.41954713,\n",
       "       -0.87824265, -0.29732958, -0.73350953, -0.4397449 , -0.90350388,\n",
       "       -0.6583833 , -0.86297798, -0.62345111, -0.07613797, -0.10922379,\n",
       "       -0.77928893, -0.55893803, -0.55249653, -0.89902343, -0.29279873,\n",
       "       -0.5118353 , -0.87834715, -0.21751275, -0.13604474, -0.4874531 ,\n",
       "       -0.99506731, -0.58323711, -0.28002259, -0.49032356, -0.87906355,\n",
       "       -0.06505591, -0.09642566, -0.62101543, -0.87620783, -0.08789394,\n",
       "       -0.26275958, -0.45326007, -0.68759079, -0.08340115, -0.11588184,\n",
       "       -0.73742544, -0.71283319, -0.08866511, -0.18503644, -0.44151907,\n",
       "       -0.1333642 , -0.08035895, -0.24329189, -0.51202696, -0.24284463,\n",
       "       -0.33947851, -0.49847618, -0.78283856, -0.90408673, -0.89891437,\n",
       "       -0.58414973, -0.43875172, -0.83110488, -0.21786126, -0.28822454,\n",
       "       -0.85561378, -0.15445564, -0.64386812, -0.43623662, -0.80214112,\n",
       "       -0.11493958, -0.19311812, -0.51804472, -0.3428889 , -0.76444516,\n",
       "       -0.75438402, -0.22827458, -0.00672749, -0.30318945, -0.28027838,\n",
       "       -0.55280692, -0.78005527, -0.12250305, -0.7653325 , -0.30762069,\n",
       "       -0.62476929, -0.75281345, -0.85037758, -0.3480148 , -0.39450512,\n",
       "       -0.0301188 , -0.13447276, -0.54346536, -0.39434022, -0.15310236,\n",
       "       -0.2763741 , -0.24978555, -0.17607296, -0.5581911 , -0.29851564,\n",
       "       -0.29445979, -0.27012383, -0.5289783 , -0.60763329, -0.2750334 ,\n",
       "       -0.86998673, -0.06403338, -0.94124982, -0.52852211, -0.29574167,\n",
       "       -0.78787325, -0.72567934, -0.92928079, -0.59980443, -0.85984859,\n",
       "       -0.70613479, -0.18219408, -0.11048934, -0.14407133, -0.7074464 ,\n",
       "       -0.65559085, -0.48667769, -0.77390946, -0.74184406, -0.09231735,\n",
       "       -0.96713746, -0.74392926, -0.23772575, -0.17706099, -0.6686547 ,\n",
       "       -0.19457115, -0.83215581, -0.28012445, -0.36148946, -0.98718069,\n",
       "       -0.79744417, -0.59842252, -0.67469845, -0.32756234, -0.52167114,\n",
       "       -0.85813709, -0.07696236, -0.81012545, -0.39304956, -0.5468869 ,\n",
       "       -0.55190394, -0.5764462 , -0.49330267, -0.84111019, -0.95694092,\n",
       "       -0.57709332, -0.70205227, -0.25784204, -0.09761761, -0.81129995,\n",
       "       -0.51949646, -0.11861122, -0.15072409, -0.12772744, -0.50436654,\n",
       "       -0.5793512 , -0.13478417, -0.57333039, -0.13115393, -0.27810349,\n",
       "       -0.48271454, -0.08337819, -0.27781524, -0.81634231, -0.705613  ,\n",
       "       -0.83931334, -0.07639557, -0.57009367, -0.63077705, -0.44019334,\n",
       "       -0.81948892, -0.57474666, -0.96957806, -0.67894327, -0.06659446,\n",
       "       -0.79162582, -0.71534688, -0.27182199, -0.67857441, -0.88883104,\n",
       "       -0.01041119, -0.73683695, -0.43657271, -0.77803026, -0.93118187,\n",
       "       -0.33177402, -0.41240705, -0.53230788, -0.37249075, -0.95919944,\n",
       "       -0.25361419, -0.0281033 , -0.9405813 , -0.03214795, -0.89278509,\n",
       "       -0.23318234, -0.18077949, -0.80116121, -0.94778498, -0.30938463,\n",
       "       -0.97771143, -0.16425104, -0.27814568, -0.4365571 , -0.69969852,\n",
       "       -0.21340366, -0.28853976, -0.85143875, -0.88505538, -0.21951539,\n",
       "       -0.79046678, -0.89262419, -0.42563807, -0.98591364, -0.51451326,\n",
       "       -0.77211255, -0.55419012, -0.74965727, -0.09385975, -0.1106219 ,\n",
       "       -0.69913933, -0.12449595, -0.36974222, -0.11707596, -0.90168796,\n",
       "       -0.02401693, -0.89665092, -0.57868194, -0.74865043, -0.3091239 ,\n",
       "       -0.46714354, -0.20143189, -0.38934545, -0.39060474, -0.2489815 ,\n",
       "       -0.51823647, -0.57858518, -0.30649221, -0.20399687, -0.25707081,\n",
       "       -0.16968434, -0.69995321, -0.15627834, -0.27328435, -0.84515484,\n",
       "       -0.12448123, -0.70703694, -0.6400965 , -0.47037316, -0.41841033,\n",
       "       -0.99590656, -0.43896839, -0.52507664, -0.63950751, -0.15712706,\n",
       "       -0.31583474, -0.0282275 , -0.37247655, -0.13591471, -0.16802378])"
      ]
     },
     "execution_count": 37,
     "metadata": {},
     "output_type": "execute_result"
    }
   ],
   "source": [
    "import numpy as np\n",
    "s = np.random.default_rng().uniform(-1,0,1000) #setting up the numpy uniform function, lower bound to high bound with 1000 elements\n",
    "s"
   ]
  },
  {
   "cell_type": "code",
   "execution_count": 38,
   "id": "1a81f29a-5397-487a-b12f-50c1bd1f5eaf",
   "metadata": {},
   "outputs": [
    {
     "data": {
      "image/png": "[encoded data removed]",
      "text/plain": [
       "<Figure size 432x288 with 1 Axes>"
      ]
     },
     "metadata": {
      "needs_background": "light"
     },
     "output_type": "display_data"
    }
   ],
   "source": [
    "import matplotlib.pyplot as plt\n",
    "count, bins, ignored = plt.hist(s, 15, density=True) #calling the histogram of s above with 1000 elements\n",
    "plt.plot(bins, np.ones_like(bins), linewidth=2, color='r')\n",
    "plt.show()"
   ]
  },
  {
   "cell_type": "markdown",
   "id": "68941496-6086-4087-bf59-866797aeab0a",
   "metadata": {},
   "source": [
    "## Distribution function"
   ]
  },
  {
   "cell_type": "code",
   "execution_count": 39,
   "id": "e892ce03-de60-4ef5-a349-e8e8665a7af5",
   "metadata": {},
   "outputs": [
    {
     "data": {
      "image/png": "[encoded data removed]",
      "text/plain": [
       "<Figure size 432x288 with 1 Axes>"
      ]
     },
     "metadata": {
      "needs_background": "light"
     },
     "output_type": "display_data"
    }
   ],
   "source": [
    "import numpy as np\n",
    "x = np.random.normal(5.0, 1.0, 100000) #random sample of 100,000 values around a mean of 5 and standard deviation of 1. \n",
    "\n",
    "plt.hist(x, 100) #calling the histogram of 100 bars\n",
    "plt.show()"
   ]
  },
  {
   "cell_type": "code",
   "execution_count": 40,
   "id": "58596c87-0953-4909-9fe8-9bced5d78ecd",
   "metadata": {},
   "outputs": [
    {
     "ename": "NameError",
     "evalue": "name 'x_min' is not defined",
     "output_type": "error",
     "traceback": [
      "\u001b[1;31m---------------------------------------------------------------------------\u001b[0m",
      "\u001b[1;31mNameError\u001b[0m                                 Traceback (most recent call last)",
      "\u001b[1;32m<ipython-input-40-5a2d74dc1f40>\u001b[0m in \u001b[0;36m<module>\u001b[1;34m\u001b[0m\n\u001b[0;32m     15\u001b[0m \u001b[0mplt\u001b[0m\u001b[1;33m.\u001b[0m\u001b[0mgrid\u001b[0m\u001b[1;33m(\u001b[0m\u001b[1;33m)\u001b[0m\u001b[1;33m\u001b[0m\u001b[1;33m\u001b[0m\u001b[0m\n\u001b[0;32m     16\u001b[0m \u001b[1;33m\u001b[0m\u001b[0m\n\u001b[1;32m---> 17\u001b[1;33m \u001b[0mplt\u001b[0m\u001b[1;33m.\u001b[0m\u001b[0mxlim\u001b[0m\u001b[1;33m(\u001b[0m\u001b[0mx_min\u001b[0m\u001b[1;33m,\u001b[0m\u001b[0mx_max\u001b[0m\u001b[1;33m)\u001b[0m\u001b[1;33m\u001b[0m\u001b[1;33m\u001b[0m\u001b[0m\n\u001b[0m\u001b[0;32m     18\u001b[0m \u001b[0mplt\u001b[0m\u001b[1;33m.\u001b[0m\u001b[0mylim\u001b[0m\u001b[1;33m(\u001b[0m\u001b[1;36m0\u001b[0m\u001b[1;33m,\u001b[0m\u001b[1;36m0.25\u001b[0m\u001b[1;33m)\u001b[0m\u001b[1;33m\u001b[0m\u001b[1;33m\u001b[0m\u001b[0m\n\u001b[0;32m     19\u001b[0m \u001b[1;33m\u001b[0m\u001b[0m\n",
      "\u001b[1;31mNameError\u001b[0m: name 'x_min' is not defined"
     ]
    },
    {
     "data": {
      "image/png": "[encoded data removed]",
      "text/plain": [
       "<Figure size 432x288 with 1 Axes>"
      ]
     },
     "metadata": {
      "needs_background": "light"
     },
     "output_type": "display_data"
    }
   ],
   "source": [
    "import matplotlib.pyplot as plt #normal dist\n",
    "import scipy.stats\n",
    "import numpy as np\n",
    "\n",
    "\n",
    "x = 0\n",
    "y = 10\n",
    "\n",
    "mean = 5\n",
    "std = 1\n",
    "\n",
    "\n",
    "plt.plot(x,y, color='coral')\n",
    "\n",
    "plt.grid()\n",
    "\n",
    "plt.xlim(x_min,x_max)\n",
    "plt.ylim(0,0.25)\n",
    "\n",
    "plt.title('How to plot a normal distribution in python with matplotlib',fontsize=10)\n",
    "\n",
    "plt.xlabel('x')\n",
    "plt.ylabel('Normal Distribution')\n",
    "plt.show()"
   ]
  },
  {
   "cell_type": "code",
   "execution_count": null,
   "id": "219a6e68-a678-43d4-a6de-e6ffb1eca866",
   "metadata": {},
   "outputs": [],
   "source": [
    "import numpy as np #uniform v normal distribution\n",
    "import matplotlib.pyplot as plt\n",
    "import seaborn as sns\n",
    "sns.set()\n",
    "import warnings\n",
    "warnings.simplefilter(\"ignore\", UserWarning)\n",
    "\n",
    "# Let's create an array of random numbers from uniform distribution\n",
    "uniform = np.random.uniform(-4,4,1000000)\n",
    "\n",
    "# Let's create an array of random numbers from normal distribution\n",
    "normal = np.random.randn(1000000)\n",
    "\n",
    "# Let's plot them\n",
    "ax = sns.distplot(uniform, label='Uniform Distribution')\n",
    "bx = sns.distplot(normal, label= 'Normal Distribution')\n",
    "legend = plt.legend()\n",
    "plt.show()"
   ]
  },
  {
   "cell_type": "code",
   "execution_count": 16,
   "id": "c10ddbd4-11ce-4fed-b4d9-931c322688fb",
   "metadata": {},
   "outputs": [
    {
     "name": "stdout",
     "output_type": "stream",
     "text": [
      "Normal array:  [1 2 3 4 5]\n",
      "Exponential array:  [  2.71828183   7.3890561   20.08553692  54.59815003 148.4131591 ]\n"
     ]
    },
    {
     "data": {
      "image/png": "[encoded data removed]",
      "text/plain": [
       "<Figure size 432x288 with 1 Axes>"
      ]
     },
     "metadata": {
      "needs_background": "light"
     },
     "output_type": "display_data"
    }
   ],
   "source": [
    "import numpy as np #exponential distribution\n",
    "import matplotlib.pyplot as plt\n",
    "\n",
    "a = np.array([1,2,3,4,5])\n",
    "print('Normal array: ', a)\n",
    "\n",
    "a2 =np.exp(a)\n",
    "print('Exponential array: ', a2)\n",
    "\n",
    "x = (a)\n",
    "y = (a2)\n",
    "plt.plot(x,y, color ='hotpink', marker = 'o')\n",
    "plt.xlabel('X')\n",
    "plt.ylabel('y')\n",
    "plt.grid()\n",
    "plt.show()\n",
    "\n"
   ]
  },
  {
   "cell_type": "code",
   "execution_count": 4,
   "id": "4a7a8cde-059c-43c2-aaa5-03ef0f1dee34",
   "metadata": {},
   "outputs": [
    {
     "name": "stderr",
     "output_type": "stream",
     "text": [
      "C:\\Users\\35385\\Anaconda3\\lib\\site-packages\\seaborn\\distributions.py:2557: FutureWarning: `distplot` is a deprecated function and will be removed in a future version. Please adapt your code to use either `displot` (a figure-level function with similar flexibility) or `kdeplot` (an axes-level function for kernel density plots).\n",
      "  warnings.warn(msg, FutureWarning)\n",
      "C:\\Users\\35385\\Anaconda3\\lib\\site-packages\\seaborn\\distributions.py:2557: FutureWarning: `distplot` is a deprecated function and will be removed in a future version. Please adapt your code to use either `displot` (a figure-level function with similar flexibility) or `kdeplot` (an axes-level function for kernel density plots).\n",
      "  warnings.warn(msg, FutureWarning)\n"
     ]
    },
    {
     "data": {
      "image/png": "[encoded data removed]",
      "text/plain": [
       "<Figure size 432x288 with 1 Axes>"
      ]
     },
     "metadata": {
      "needs_background": "light"
     },
     "output_type": "display_data"
    }
   ],
   "source": [
    "from numpy import random #normal v binomial sistribution\n",
    "import matplotlib.pyplot as plt\n",
    "import seaborn as sns\n",
    "\n",
    "sns.distplot(random.normal(loc=20, scale=10, size=600), hist=False, label='normal') #normal\n",
    "sns.distplot(random.binomial(n=80, p=0.5, size=600), hist=False, label='binomial') #binomial\n",
    "plt.legend(['normal', 'binomial'])\n",
    "\n",
    "plt.show()"
   ]
  },
  {
   "cell_type": "code",
   "execution_count": 1,
   "id": "bb9fa3b1-ef9d-4f15-81f1-4a0991e233a2",
   "metadata": {},
   "outputs": [
    {
     "data": {
      "image/png": "[encoded data removed]",
      "text/plain": [
       "<Figure size 432x288 with 1 Axes>"
      ]
     },
     "metadata": {
      "needs_background": "light"
     },
     "output_type": "display_data"
    }
   ],
   "source": [
    "import numpy as np # Triangular distribution\n",
    "import seaborn as sns\n",
    "import matplotlib.pyplot as plt\n",
    "h = plt.hist(np.random.default_rng().triangular(1, 5, 10, 100000), bins=200,\n",
    "             density=True)\n",
    "plt.show()\n"
   ]
  },
  {
   "cell_type": "code",
   "execution_count": 22,
   "id": "a819996d-2bad-4926-ae38-830987cab951",
   "metadata": {},
   "outputs": [
    {
     "data": {
      "image/png": "[encoded data removed]",
      "text/plain": [
       "<Figure size 432x288 with 1 Axes>"
      ]
     },
     "metadata": {
      "needs_background": "light"
     },
     "output_type": "display_data"
    }
   ],
   "source": [
    "tri = np.random.default_rng().triangular(10, 25, 30, 10000) #testing out the triangular distribution (min value, mode, max value, size)\n",
    "\n",
    "sns.distplot(tri, kde = False, color = 'purple' )\n",
    "\n",
    "\n",
    "plt.show()"
   ]
  },
  {
   "cell_type": "code",
   "execution_count": 2,
   "id": "7303f088-5fab-4830-bfbf-b1bac6161d4c",
   "metadata": {},
   "outputs": [
    {
     "data": {
      "image/png": "[encoded data removed]",
      "text/plain": [
       "<Figure size 432x288 with 1 Axes>"
      ]
     },
     "metadata": {
      "needs_background": "light"
     },
     "output_type": "display_data"
    }
   ],
   "source": [
    "laptop = 10 #test; 10 years that we estimate that the laptop will last.\n",
    "parts = 100 #test; 100 parts to be tested.\n",
    "\n",
    "a1 = np.random.exponential(laptop, parts)\n",
    "plt.hist(a1, 20, density=True, label='average=10')\n",
    "plt.title('Exponential distribution', size=14)\n",
    "plt.xlabel('x', size=14)\n",
    "plt.ylabel('frequency', size=14)\n",
    "plt.legend()\n",
    "plt.grid()\n",
    "plt.show()"
   ]
  },
  {
   "cell_type": "markdown",
   "id": "349c86ce-9264-4cc6-b1fb-94d6610d88a4",
   "metadata": {},
   "source": [
    "# Seeds of Pseudorandom numbers"
   ]
  },
  {
   "cell_type": "code",
   "execution_count": 4,
   "id": "6bbeaf32-84b0-447d-a727-a7fa3dfc4edb",
   "metadata": {},
   "outputs": [
    {
     "name": "stdout",
     "output_type": "stream",
     "text": [
      "Generator(PCG64)\n"
     ]
    }
   ],
   "source": [
    "import numpy as np\n",
    "a = np.random.default_rng(7678) #setting up the variable and calling the random function to call back the generator\n",
    "print(a)"
   ]
  },
  {
   "cell_type": "code",
   "execution_count": 10,
   "id": "d46827fe-3262-4610-be6d-946cecea026d",
   "metadata": {},
   "outputs": [
    {
     "name": "stdout",
     "output_type": "stream",
     "text": [
      "[0 9 4]\n"
     ]
    },
    {
     "data": {
      "text/plain": [
       "numpy.int64"
      ]
     },
     "execution_count": 10,
     "metadata": {},
     "output_type": "execute_result"
    }
   ],
   "source": [
    "b = np.random.default_rng(5678) \n",
    "c = b.integers(low=0, high=10, size=3) #setting the parameters of low, high and size to generate three random numbers\n",
    "print(c)\n",
    "\n",
    "type(c[2]) #asking what type of data type is element 2"
   ]
  },
  {
   "cell_type": "code",
   "execution_count": 2,
   "id": "821e255e-083d-46c4-9daf-4e3b6231f131",
   "metadata": {},
   "outputs": [
    {
     "data": {
      "text/plain": [
       "0.1878677086274202"
      ]
     },
     "execution_count": 2,
     "metadata": {},
     "output_type": "execute_result"
    }
   ],
   "source": [
    "import numpy as np\n",
    "np.random.sample() #random sample \n"
   ]
  },
  {
   "cell_type": "code",
   "execution_count": 7,
   "id": "36ffad9b-f505-4067-9a1f-2b0bdc401c2f",
   "metadata": {},
   "outputs": [],
   "source": [
    "import random\n",
    "random.seed(a= None, version = 2) #a is the seed and version is 2 to convert to int\n"
   ]
  },
  {
   "cell_type": "code",
   "execution_count": null,
   "id": "5265746a-7329-4998-bbbf-f70ce97ac00b",
   "metadata": {},
   "outputs": [],
   "source": []
  }
 ],
 "metadata": {
  "kernelspec": {
   "display_name": "Python 3",
   "language": "python",
   "name": "python3"
  },
  "language_info": {
   "codemirror_mode": {
    "name": "ipython",
    "version": 3
   },
   "file_extension": ".py",
   "mimetype": "text/x-python",
   "name": "python",
   "nbconvert_exporter": "python",
   "pygments_lexer": "ipython3",
   "version": "3.8.8"
  }
 },
 "nbformat": 4,
 "nbformat_minor": 5
}
